{
 "cells": [
  {
   "cell_type": "markdown",
   "metadata": {},
   "source": [
    "# Loading & Preprocessing Dataset\n",
    "\n",
    "Loading the dataset from torchvision and preparing the DataLoaders after transform operations"
   ]
  },
  {
   "cell_type": "code",
   "execution_count": 1,
   "metadata": {},
   "outputs": [],
   "source": [
    "import torch\n",
    "import torch.nn as nn\n",
    "from torch.utils.data.dataloader import DataLoader\n",
    "from torchvision import models, datasets, transforms\n",
    "\n",
    "transform = transforms.Compose([transforms.ToTensor(), transforms.Normalize((0.5,), (0.5,))])\n",
    "mnist_train = datasets.MNIST(root='mnist', train=True, download=True, transform=transform)\n",
    "mnist_test = datasets.MNIST(root='mnist', train=False, download=True, transform=transform)\n",
    "labels = mnist_train.classes\n",
    "\n",
    "batchsize=64\n",
    "train_dl = DataLoader(mnist_train, batch_size=batchsize, shuffle=True)\n",
    "test_dl = DataLoader(mnist_test, batch_size=batchsize, shuffle=False)"
   ]
  },
  {
   "cell_type": "markdown",
   "metadata": {},
   "source": [
    "# Defining custom CNN\n",
    "\n",
    "Single layer consists of => Conv2D - BatchNorm - LeakyReLU - MaxPool2D - Dropout\n",
    "Last layer consists of => Flatten - Fully Connected - LeakyReLU - Dropout - Fully Connected"
   ]
  },
  {
   "cell_type": "code",
   "execution_count": 2,
   "metadata": {},
   "outputs": [
    {
     "name": "stdout",
     "output_type": "stream",
     "text": [
      "cuda\n"
     ]
    },
    {
     "data": {
      "text/plain": [
       "CNN_MNIST(\n",
       "  (network): Sequential(\n",
       "    (0): Conv2d(1, 16, kernel_size=(3, 3), stride=(1, 1), padding=(1, 1))\n",
       "    (1): BatchNorm2d(16, eps=1e-05, momentum=0.1, affine=True, track_running_stats=True)\n",
       "    (2): LeakyReLU(negative_slope=0.01)\n",
       "    (3): MaxPool2d(kernel_size=2, stride=2, padding=0, dilation=1, ceil_mode=False)\n",
       "    (4): Dropout2d(p=0.25, inplace=False)\n",
       "    (5): Conv2d(16, 32, kernel_size=(3, 3), stride=(1, 1), padding=(1, 1))\n",
       "    (6): BatchNorm2d(32, eps=1e-05, momentum=0.1, affine=True, track_running_stats=True)\n",
       "    (7): LeakyReLU(negative_slope=0.01)\n",
       "    (8): MaxPool2d(kernel_size=2, stride=2, padding=0, dilation=1, ceil_mode=False)\n",
       "    (9): Dropout2d(p=0.25, inplace=False)\n",
       "    (10): Conv2d(32, 64, kernel_size=(3, 3), stride=(1, 1), padding=(1, 1))\n",
       "    (11): BatchNorm2d(64, eps=1e-05, momentum=0.1, affine=True, track_running_stats=True)\n",
       "    (12): LeakyReLU(negative_slope=0.01)\n",
       "    (13): MaxPool2d(kernel_size=2, stride=2, padding=0, dilation=1, ceil_mode=False)\n",
       "    (14): Dropout2d(p=0.25, inplace=False)\n",
       "    (15): Flatten(start_dim=1, end_dim=-1)\n",
       "    (16): Linear(in_features=576, out_features=512, bias=True)\n",
       "    (17): LeakyReLU(negative_slope=0.01)\n",
       "    (18): Dropout(p=0.25, inplace=False)\n",
       "    (19): Linear(in_features=512, out_features=10, bias=True)\n",
       "  )\n",
       ")"
      ]
     },
     "execution_count": 2,
     "metadata": {},
     "output_type": "execute_result"
    }
   ],
   "source": [
    "device = 'cuda' if torch.cuda.is_available() else 'cpu'\n",
    "print(device)\n",
    "\n",
    "class CNN_MNIST(nn.Module):\n",
    "    def __init__(self):\n",
    "        super().__init__()\n",
    "        self.network = nn.Sequential(\n",
    "            nn.Conv2d(1, 16, kernel_size=3, padding=1), # kernel = 5, padding = 2\n",
    "            nn.BatchNorm2d(16),\n",
    "            nn.LeakyReLU(),\n",
    "            nn.MaxPool2d(2),\n",
    "            nn.Dropout2d(p=0.25),\n",
    "\n",
    "            nn.Conv2d(16, 32, kernel_size=3, padding=1), # kernel = 5, padding = 2\n",
    "            nn.BatchNorm2d(32),\n",
    "            nn.LeakyReLU(),\n",
    "            nn.MaxPool2d(2),\n",
    "            nn.Dropout2d(p=0.25),\n",
    "\n",
    "            nn.Conv2d(32, 64, kernel_size=3, padding=1),\n",
    "            nn.BatchNorm2d(64),\n",
    "            nn.LeakyReLU(),\n",
    "            nn.MaxPool2d(2),\n",
    "            nn.Dropout2d(p=0.25),\n",
    "\n",
    "            nn.Flatten(),\n",
    "            nn.Linear(3*3*64, 512),\n",
    "            nn.LeakyReLU(),\n",
    "            nn.Dropout(p=0.25),\n",
    "            nn.Linear(512, 10)\n",
    "        )\n",
    "    def forward(self, b):\n",
    "        return self.network(b)\n",
    "\n",
    "model = CNN_MNIST().to(device)\n",
    "model"
   ]
  },
  {
   "cell_type": "markdown",
   "metadata": {},
   "source": [
    "# GPU status"
   ]
  },
  {
   "cell_type": "code",
   "execution_count": 3,
   "metadata": {},
   "outputs": [
    {
     "name": "stdout",
     "output_type": "stream",
     "text": [
      "Tue May 17 21:27:35 2022       \n",
      "+-----------------------------------------------------------------------------+\n",
      "| NVIDIA-SMI 512.77       Driver Version: 512.77       CUDA Version: 11.6     |\n",
      "|-------------------------------+----------------------+----------------------+\n",
      "| GPU  Name            TCC/WDDM | Bus-Id        Disp.A | Volatile Uncorr. ECC |\n",
      "| Fan  Temp  Perf  Pwr:Usage/Cap|         Memory-Usage | GPU-Util  Compute M. |\n",
      "|                               |                      |               MIG M. |\n",
      "|===============================+======================+======================|\n",
      "|   0  NVIDIA GeForce ... WDDM  | 00000000:01:00.0 Off |                  N/A |\n",
      "| N/A   43C    P0    20W /  N/A |    120MiB /  6144MiB |      0%      Default |\n",
      "|                               |                      |                  N/A |\n",
      "+-------------------------------+----------------------+----------------------+\n",
      "                                                                               \n",
      "+-----------------------------------------------------------------------------+\n",
      "| Processes:                                                                  |\n",
      "|  GPU   GI   CI        PID   Type   Process name                  GPU Memory |\n",
      "|        ID   ID                                                   Usage      |\n",
      "|=============================================================================|\n",
      "|    0   N/A  N/A      5848      C   ...thon\\Python310\\python.exe    N/A      |\n",
      "+-----------------------------------------------------------------------------+\n"
     ]
    }
   ],
   "source": [
    "import torch\n",
    "torch.cuda.empty_cache()\n",
    "!nvidia-smi"
   ]
  },
  {
   "cell_type": "markdown",
   "metadata": {},
   "source": [
    "# Training the model\n",
    "\n",
    "Epochs = 20\n",
    "Loss function = Crossentropy\n",
    "Optimizer = Adam\n",
    "Learning Rate scheduler has been used"
   ]
  },
  {
   "cell_type": "code",
   "execution_count": 4,
   "metadata": {},
   "outputs": [
    {
     "name": "stdout",
     "output_type": "stream",
     "text": [
      "Epoch : 1\n",
      "\n",
      "train Loss: 0.0073\tAccuracy: 0.9238\n",
      "val Loss: 0.0004\tAccuracy: 0.9791\n",
      "\n",
      "Epoch : 2\n",
      "\n",
      "train Loss: 0.0045\tAccuracy: 0.9735\n",
      "val Loss: 0.0000\tAccuracy: 0.9864\n",
      "\n",
      "Epoch : 3\n",
      "\n",
      "train Loss: 0.0021\tAccuracy: 0.9789\n",
      "val Loss: 0.0000\tAccuracy: 0.9896\n",
      "\n",
      "Epoch : 4\n",
      "\n",
      "train Loss: 0.0020\tAccuracy: 0.9816\n",
      "val Loss: 0.0000\tAccuracy: 0.9898\n",
      "\n",
      "Epoch : 5\n",
      "\n",
      "train Loss: 0.0012\tAccuracy: 0.9844\n",
      "val Loss: 0.0000\tAccuracy: 0.9909\n",
      "\n",
      "Epoch : 6\n",
      "\n",
      "train Loss: 0.0000\tAccuracy: 0.9848\n",
      "val Loss: 0.0000\tAccuracy: 0.9916\n",
      "\n",
      "Epoch : 7\n",
      "\n",
      "train Loss: 0.0049\tAccuracy: 0.9858\n",
      "val Loss: 0.0000\tAccuracy: 0.9907\n",
      "\n",
      "Epoch : 8\n",
      "\n",
      "train Loss: 0.0005\tAccuracy: 0.9899\n",
      "val Loss: 0.0000\tAccuracy: 0.9933\n",
      "\n",
      "Epoch : 9\n",
      "\n",
      "train Loss: 0.0005\tAccuracy: 0.9919\n",
      "val Loss: 0.0000\tAccuracy: 0.9937\n",
      "\n",
      "Epoch : 10\n",
      "\n",
      "train Loss: 0.0001\tAccuracy: 0.9916\n",
      "val Loss: 0.0000\tAccuracy: 0.9935\n",
      "\n",
      "Epoch : 11\n",
      "\n",
      "train Loss: 0.0002\tAccuracy: 0.9929\n",
      "val Loss: 0.0000\tAccuracy: 0.9943\n",
      "\n",
      "Epoch : 12\n",
      "\n",
      "train Loss: 0.0006\tAccuracy: 0.9933\n",
      "val Loss: 0.0000\tAccuracy: 0.9942\n",
      "\n",
      "Epoch : 13\n",
      "\n",
      "train Loss: 0.0030\tAccuracy: 0.9933\n",
      "val Loss: 0.0000\tAccuracy: 0.9938\n",
      "\n",
      "Epoch : 14\n",
      "\n",
      "train Loss: 0.0036\tAccuracy: 0.9933\n",
      "val Loss: 0.0000\tAccuracy: 0.9939\n",
      "\n",
      "Epoch : 15\n",
      "\n",
      "train Loss: 0.0001\tAccuracy: 0.9942\n",
      "val Loss: 0.0000\tAccuracy: 0.9937\n",
      "\n",
      "Epoch : 16\n",
      "\n",
      "train Loss: 0.0015\tAccuracy: 0.9940\n",
      "val Loss: 0.0000\tAccuracy: 0.9936\n",
      "\n",
      "Epoch : 17\n",
      "\n",
      "train Loss: 0.0009\tAccuracy: 0.9941\n",
      "val Loss: 0.0000\tAccuracy: 0.9935\n",
      "\n",
      "Epoch : 18\n",
      "\n",
      "train Loss: 0.0001\tAccuracy: 0.9938\n",
      "val Loss: 0.0000\tAccuracy: 0.9935\n",
      "\n",
      "Epoch : 19\n",
      "\n",
      "train Loss: 0.0004\tAccuracy: 0.9944\n",
      "val Loss: 0.0000\tAccuracy: 0.9935\n",
      "\n",
      "Epoch : 20\n",
      "\n",
      "train Loss: 0.0000\tAccuracy: 0.9942\n",
      "val Loss: 0.0000\tAccuracy: 0.9938\n",
      "\n",
      "Total time elapsed = 323.265271799999\n"
     ]
    }
   ],
   "source": [
    "device = 'cuda' if torch.cuda.is_available() else 'cpu'\n",
    "\n",
    "import numpy as np\n",
    "from torch.optim import Adam, lr_scheduler\n",
    "from torch import nn\n",
    "import copy, timeit\n",
    "\n",
    "optimizer = Adam(model.parameters(), lr=0.001)\n",
    "xent = nn.CrossEntropyLoss()\n",
    "scheduler = lr_scheduler.StepLR(optimizer, step_size=7, gamma=0.1)\n",
    "\n",
    "if device!='cpu':\n",
    "    model = model.to(device)\n",
    "\n",
    "val_loss = []\n",
    "val_acc = []\n",
    "train_loss = []\n",
    "train_acc = []\n",
    "epochs = 20\n",
    "\n",
    "best_acc = 0\n",
    "best_model = copy.deepcopy(model.state_dict())\n",
    "\n",
    "start = timeit.default_timer()\n",
    "for epoch in range(1, epochs+1):\n",
    "    print(f\"Epoch : {epoch}\\n\")\n",
    "    dataloader = None\n",
    "    \n",
    "    for phase in ['train', 'val']:\n",
    "        loss = 0\n",
    "        correct = 0\n",
    "        total = 0\n",
    "        batch_num = 0\n",
    "        \n",
    "        if phase == 'train' :\n",
    "            model.train()\n",
    "            dataloader = train_dl\n",
    "        else:\n",
    "            model.eval()\n",
    "            dataloader = test_dl\n",
    "\n",
    "        for (img, label) in dataloader:\n",
    "            img, label = img.to(device), label.to(device)\n",
    "            optimizer.zero_grad()\n",
    "\n",
    "            with torch.set_grad_enabled(phase == 'train'):\n",
    "                output = model(img)\n",
    "                _, pred = torch.max(output.data, 1)\n",
    "                loss = xent(output, label)\n",
    "                if phase=='train' :\n",
    "                    loss.backward()\n",
    "                    optimizer.step()\n",
    "            \n",
    "            loss += loss.item() * img.size(0)\n",
    "            torch.cuda.empty_cache()\n",
    "            correct += torch.sum(pred == label.data)\n",
    "            total += label.size(0)\n",
    "            batch_num += 1\n",
    "            #if batch_num % 10 == 0:\n",
    "            #    print(f\"{phase} batch {batch_num} completed\")\n",
    "        \n",
    "        if phase=='train' :\n",
    "            train_loss.append(loss/len(train_dl))\n",
    "            train_acc.append(correct/total)\n",
    "            scheduler.step()\n",
    "            print(f'{phase} Loss: {train_loss[-1]:.4f}\\tAccuracy: {train_acc[-1]:.4f}')\n",
    "        else :\n",
    "            val_loss.append(loss/len(test_dl))\n",
    "            val_acc.append(correct/total)\n",
    "            print(f'{phase} Loss: {val_loss[-1]:.4f}\\tAccuracy: {val_acc[-1]:.4f}')\n",
    "\n",
    "            if val_acc[-1] > best_acc :\n",
    "                best_acc = val_acc[-1]\n",
    "                best_model = copy.deepcopy(model.state_dict())\n",
    "\n",
    "        torch.cuda.empty_cache()\n",
    "    \n",
    "    print()\n",
    "\n",
    "end = timeit.default_timer()\n",
    "print(f\"Total time elapsed = {end - start}\")\n",
    "name = f'mnist_pytorch_{epoch}_{best_acc:.4f}.pth'\n",
    "model.load_state_dict(best_model)\n",
    "model = model.to('cpu')\n",
    "#torch.save(model.state_dict(), os.path.join(path, name))"
   ]
  },
  {
   "cell_type": "code",
   "execution_count": 7,
   "metadata": {},
   "outputs": [],
   "source": [
    "torch.save(model.state_dict(), name)"
   ]
  },
  {
   "cell_type": "markdown",
   "metadata": {},
   "source": [
    "# Plotting Accuracy and Loss"
   ]
  },
  {
   "cell_type": "code",
   "execution_count": 5,
   "metadata": {},
   "outputs": [
    {
     "data": {
      "image/png": "[encoded data removed]",
      "text/plain": [
       "<Figure size 432x288 with 1 Axes>"
      ]
     },
     "metadata": {
      "needs_background": "light"
     },
     "output_type": "display_data"
    },
    {
     "data": {
      "image/png": "[encoded data removed]",
      "text/plain": [
       "<Figure size 432x288 with 1 Axes>"
      ]
     },
     "metadata": {
      "needs_background": "light"
     },
     "output_type": "display_data"
    }
   ],
   "source": [
    "train_loss = [i.item() for i in train_loss]\n",
    "val_loss = [i.item() for i in val_loss]\n",
    "train_acc = [i.item() for i in train_acc]\n",
    "val_acc = [i.item() for i in val_acc]\n",
    "\n",
    "import matplotlib.pyplot as plt\n",
    "plt.figure()\n",
    "plt.plot(range(1,epochs+1), train_loss, color='blue')\n",
    "plt.plot(range(1,epochs+1), val_loss, color='red')\n",
    "plt.xlabel('Epoch')\n",
    "plt.ylabel('Loss')\n",
    "plt.title('Loss Curve')\n",
    "plt.legend(['Train Loss', 'Validation Loss'])\n",
    "plt.show()\n",
    "\n",
    "import matplotlib.pyplot as plt\n",
    "plt.figure()\n",
    "plt.plot(range(1,epochs+1), train_acc, color='blue')\n",
    "plt.plot(range(1,epochs+1), val_acc, color='red')\n",
    "plt.xlabel('Epoch')\n",
    "plt.ylabel('Accuracy')\n",
    "plt.title('Accuracy Curve')\n",
    "plt.legend(['Train Accuracy', 'Validation Accuracy'])\n",
    "plt.show()"
   ]
  },
  {
   "cell_type": "markdown",
   "metadata": {},
   "source": [
    "# Load and Predict"
   ]
  },
  {
   "cell_type": "code",
   "execution_count": 9,
   "metadata": {},
   "outputs": [
    {
     "name": "stdout",
     "output_type": "stream",
     "text": [
      "Accuracy on Test set : 0.9886\n"
     ]
    }
   ],
   "source": [
    "name = 'mnist_pytorch_20_0.9943.pth' # Copy and paste the model name after running above tab\n",
    "\n",
    "device = 'cuda' if torch.cuda.is_available() else 'cpu'\n",
    "model = CNN_MNIST()\n",
    "model.load_state_dict(torch.load(name))\n",
    "model = model.to(device)\n",
    "\n",
    "total = 0\n",
    "correct = 0\n",
    "with torch.no_grad():\n",
    "    for (img, label) in test_dl:\n",
    "        img, label = img.to(device), label.to(device)\n",
    "        output = model(img)\n",
    "        _, predicted = torch.max(output.data, 1)\n",
    "        total += label.size(0)\n",
    "        correct += (predicted == label).sum().item()\n",
    "print(f\"Accuracy on Test set : {correct/total}\")"
   ]
  }
 ],
 "metadata": {
  "interpreter": {
   "hash": "8af0c7b516e23976b6ef6c4f3f67ca7449b209a47950dd9299e28344133359b8"
  },
  "kernelspec": {
   "display_name": "Python 3.10.4 64-bit",
   "language": "python",
   "name": "python3"
  },
  "language_info": {
   "codemirror_mode": {
    "name": "ipython",
    "version": 3
   },
   "file_extension": ".py",
   "mimetype": "text/x-python",
   "name": "python",
   "nbconvert_exporter": "python",
   "pygments_lexer": "ipython3",
   "version": "3.10.4"
  },
  "orig_nbformat": 4
 },
 "nbformat": 4,
 "nbformat_minor": 2
}
